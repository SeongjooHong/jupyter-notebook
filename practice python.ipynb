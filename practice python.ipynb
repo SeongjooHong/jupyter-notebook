{
 "cells": [
  {
   "cell_type": "markdown",
   "metadata": {},
   "source": [
    "# python 실습 예제\n",
    "\n",
    "### 1. 구구단 출력하기"
   ]
  },
  {
   "cell_type": "code",
   "execution_count": 1,
   "metadata": {},
   "outputs": [
    {
     "name": "stdout",
     "output_type": "stream",
     "text": [
      "★ 구구단을 출력합니다.\n",
      "\n",
      "------- [2단] -------\n",
      "2 X 1 = 2\n",
      "2 X 2 = 4\n",
      "2 X 3 = 6\n",
      "2 X 4 = 8\n",
      "2 X 5 = 10\n",
      "2 X 6 = 12\n",
      "2 X 7 = 14\n",
      "2 X 8 = 16\n",
      "2 X 9 = 18\n",
      "------- [3단] -------\n",
      "3 X 1 = 3\n",
      "3 X 2 = 6\n",
      "3 X 3 = 9\n",
      "3 X 4 = 12\n",
      "3 X 5 = 15\n",
      "3 X 6 = 18\n",
      "3 X 7 = 21\n",
      "3 X 8 = 24\n",
      "3 X 9 = 27\n",
      "------- [4단] -------\n",
      "4 X 1 = 4\n",
      "4 X 2 = 8\n",
      "4 X 3 = 12\n",
      "4 X 4 = 16\n",
      "4 X 5 = 20\n",
      "4 X 6 = 24\n",
      "4 X 7 = 28\n",
      "4 X 8 = 32\n",
      "4 X 9 = 36\n",
      "------- [5단] -------\n",
      "5 X 1 = 5\n",
      "5 X 2 = 10\n",
      "5 X 3 = 15\n",
      "5 X 4 = 20\n",
      "5 X 5 = 25\n",
      "5 X 6 = 30\n",
      "5 X 7 = 35\n",
      "5 X 8 = 40\n",
      "5 X 9 = 45\n",
      "------- [6단] -------\n",
      "6 X 1 = 6\n",
      "6 X 2 = 12\n",
      "6 X 3 = 18\n",
      "6 X 4 = 24\n",
      "6 X 5 = 30\n",
      "6 X 6 = 36\n",
      "6 X 7 = 42\n",
      "6 X 8 = 48\n",
      "6 X 9 = 54\n",
      "------- [7단] -------\n",
      "7 X 1 = 7\n",
      "7 X 2 = 14\n",
      "7 X 3 = 21\n",
      "7 X 4 = 28\n",
      "7 X 5 = 35\n",
      "7 X 6 = 42\n",
      "7 X 7 = 49\n",
      "7 X 8 = 56\n",
      "7 X 9 = 63\n",
      "------- [8단] -------\n",
      "8 X 1 = 8\n",
      "8 X 2 = 16\n",
      "8 X 3 = 24\n",
      "8 X 4 = 32\n",
      "8 X 5 = 40\n",
      "8 X 6 = 48\n",
      "8 X 7 = 56\n",
      "8 X 8 = 64\n",
      "8 X 9 = 72\n",
      "------- [9단] -------\n",
      "9 X 1 = 9\n",
      "9 X 2 = 18\n",
      "9 X 3 = 27\n",
      "9 X 4 = 36\n",
      "9 X 5 = 45\n",
      "9 X 6 = 54\n",
      "9 X 7 = 63\n",
      "9 X 8 = 72\n",
      "9 X 9 = 81\n",
      "---------------------\n"
     ]
    }
   ],
   "source": [
    "print(\"구구단을 출력합니다.\\n\")\n",
    "for x in range(2, 10):\n",
    "    print(\"------- [\" + str(x) + \"단] -------\")\n",
    "    for y in range(1, 10):\n",
    "        print(x, \"X\", y, \"=\", x*y)\n",
    "print(\"---------------------\")"
   ]
  },
  {
   "cell_type": "markdown",
   "metadata": {},
   "source": [
    "#### 원하는 단만 구구단 출력하기"
   ]
  },
  {
   "cell_type": "code",
   "execution_count": 6,
   "metadata": {},
   "outputs": [
    {
     "name": "stdout",
     "output_type": "stream",
     "text": [
      "구구단 몇 단을 출력할까요?6\n",
      "------- [6단] -------\n",
      "6 X 1 = 9\n",
      "6 X 2 = 18\n",
      "6 X 3 = 27\n",
      "6 X 4 = 36\n",
      "6 X 5 = 45\n",
      "6 X 6 = 54\n",
      "6 X 7 = 63\n",
      "6 X 8 = 72\n",
      "6 X 9 = 81\n",
      "---------------------\n"
     ]
    }
   ],
   "source": [
    "number = int(input(\"구구단 몇 단을 출력할까요?\"))\n",
    "\n",
    "print(\"------- [\" + str(number) + \"단] -------\")\n",
    "for y in range(1, 10):\n",
    "    print(number, \"X\", y, \"=\", x*y)\n",
    "print(\"---------------------\")"
   ]
  },
  {
   "cell_type": "markdown",
   "metadata": {},
   "source": [
    "### 2. 학생의 시험 성적 입력 후 학점 변환기 만들기"
   ]
  },
  {
   "cell_type": "code",
   "execution_count": 2,
   "metadata": {},
   "outputs": [
    {
     "name": "stdout",
     "output_type": "stream",
     "text": [
      "점수를 입력하세요.95\n",
      "A학점\n"
     ]
    }
   ],
   "source": [
    "score =int(input(\"점수를 입력하세요.\"))\n",
    "\n",
    "if(score >= 90):\n",
    "    print(\"A학점\")\n",
    "elif(score>=80):\n",
    "    print(\"B학점\")\n",
    "elif(score>=70):\n",
    "    print(\"C학점\")\n",
    "elif(score>=60):\n",
    "    print(\"D학점\")\n",
    "else:\n",
    "    print(\"F학점\")"
   ]
  },
  {
   "cell_type": "markdown",
   "metadata": {},
   "source": [
    "### 3. 별찍기 문제"
   ]
  },
  {
   "cell_type": "markdown",
   "metadata": {},
   "source": [
    "생략"
   ]
  },
  {
   "cell_type": "markdown",
   "metadata": {},
   "source": [
    "### 4. Up & Down Game"
   ]
  },
  {
   "cell_type": "code",
   "execution_count": 7,
   "metadata": {},
   "outputs": [
    {
     "name": "stdout",
     "output_type": "stream",
     "text": [
      "1~100 숫자 Up & Down 게임을 시작합니다 !!!\n",
      "---------------------------\n",
      "1 ~ 100 사이의 숫자를 입력하세요 : 5\n",
      "Down\n",
      "1 ~ 100 사이의 숫자를 입력하세요 : 2\n",
      "Down\n",
      "1 ~ 100 사이의 숫자를 입력하세요 : 1\n",
      "---------------------------\n",
      "3 번 만에 정답을 맞추셨습니다.\n"
     ]
    }
   ],
   "source": [
    "import random\n",
    "\n",
    "\n",
    "rn = random.randrange(1, 101, 1)\n",
    "num = -1\n",
    "\n",
    "t_cnt = 0 # 시도횟수\n",
    "\n",
    "print(\"1~100 숫자 Up & Down 게임을 시작합니다 !!!\")\n",
    "print(\"---------------------------\")\n",
    "while ( rn != num ):\n",
    "\n",
    "    num = int(input(\"1 ~ 100 사이의 숫자를 입력하세요 : \"))\n",
    "\n",
    "    if (num > rn):\n",
    "        print(\"Down\")\n",
    "    elif (num < rn):\n",
    "        print(\"Up\")\n",
    "\n",
    "    t_cnt += 1\n",
    "print(\"---------------------------\")\n",
    "print(t_cnt, \"번 만에 정답을 맞추셨습니다.\")"
   ]
  },
  {
   "cell_type": "code",
   "execution_count": null,
   "metadata": {},
   "outputs": [],
   "source": []
  }
 ],
 "metadata": {
  "kernelspec": {
   "display_name": "Python 3",
   "language": "python",
   "name": "python3"
  },
  "language_info": {
   "codemirror_mode": {
    "name": "ipython",
    "version": 3
   },
   "file_extension": ".py",
   "mimetype": "text/x-python",
   "name": "python",
   "nbconvert_exporter": "python",
   "pygments_lexer": "ipython3",
   "version": "3.7.4"
  }
 },
 "nbformat": 4,
 "nbformat_minor": 2
}
